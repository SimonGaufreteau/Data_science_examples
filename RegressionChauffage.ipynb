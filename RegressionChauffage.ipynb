{
 "cells": [
  {
   "cell_type": "markdown",
   "metadata": {},
   "source": [
    "GASSION Axel  \n",
    "GAUFRETEAU Simon"
   ]
  },
  {
   "cell_type": "markdown",
   "metadata": {},
   "source": [
    "Tiré de : https://www.kaggle.com/ariosliew92/energy-efficiency-linear-regression/notebook"
   ]
  },
  {
   "cell_type": "markdown",
   "metadata": {},
   "source": [
    "# Imports & Prévisualisation"
   ]
  },
  {
   "cell_type": "code",
   "execution_count": 2,
   "metadata": {},
   "outputs": [
    {
     "name": "stdout",
     "output_type": "stream",
     "text": [
      "Import OK\n"
     ]
    }
   ],
   "source": [
    "import pandas as pd\n",
    "import matplotlib.pyplot as plt\n",
    "import seaborn as sns\n",
    "import numpy as np\n",
    "from sklearn.ensemble import RandomForestRegressor as rf_reg\n",
    "from sklearn.model_selection import RandomizedSearchCV as randomCV\n",
    "from sklearn.model_selection import train_test_split,cross_validate,GridSearchCV\n",
    "from sklearn.metrics import mean_squared_error as MSE\n",
    "from sklearn import feature_selection\n",
    "from sklearn.linear_model import LinearRegression as l_reg\n",
    "from sklearn.ensemble import RandomForestClassifier, RandomForestRegressor\n",
    "from sklearn.decomposition import PCA\n",
    "from sklearn.metrics import r2_score,confusion_matrix,accuracy_score,precision_score\n",
    "from sklearn import metrics\n",
    "from plotnine import *\n",
    "from matplotlib import gridspec\n",
    "from sklearn.preprocessing import StandardScaler\n",
    "from sklearn import preprocessing\n",
    "from sklearn import utils\n",
    "import pprint\n",
    "\n",
    "print(\"Import OK\")"
   ]
  },
  {
   "cell_type": "markdown",
   "metadata": {},
   "source": [
    "## Import data / print head"
   ]
  },
  {
   "cell_type": "code",
   "execution_count": 3,
   "metadata": {},
   "outputs": [
    {
     "data": {
      "text/html": [
       "<div>\n",
       "<style scoped>\n",
       "    .dataframe tbody tr th:only-of-type {\n",
       "        vertical-align: middle;\n",
       "    }\n",
       "\n",
       "    .dataframe tbody tr th {\n",
       "        vertical-align: top;\n",
       "    }\n",
       "\n",
       "    .dataframe thead th {\n",
       "        text-align: right;\n",
       "    }\n",
       "</style>\n",
       "<table border=\"1\" class=\"dataframe\">\n",
       "  <thead>\n",
       "    <tr style=\"text-align: right;\">\n",
       "      <th></th>\n",
       "      <th>X1</th>\n",
       "      <th>X2</th>\n",
       "      <th>X3</th>\n",
       "      <th>X4</th>\n",
       "      <th>X5</th>\n",
       "      <th>X6</th>\n",
       "      <th>X7</th>\n",
       "      <th>X8</th>\n",
       "      <th>Y1</th>\n",
       "      <th>Y2</th>\n",
       "    </tr>\n",
       "  </thead>\n",
       "  <tbody>\n",
       "    <tr>\n",
       "      <th>0</th>\n",
       "      <td>0.98</td>\n",
       "      <td>514.5</td>\n",
       "      <td>294.0</td>\n",
       "      <td>110.25</td>\n",
       "      <td>7.0</td>\n",
       "      <td>2</td>\n",
       "      <td>0.0</td>\n",
       "      <td>0</td>\n",
       "      <td>15.55</td>\n",
       "      <td>21.33</td>\n",
       "    </tr>\n",
       "    <tr>\n",
       "      <th>1</th>\n",
       "      <td>0.98</td>\n",
       "      <td>514.5</td>\n",
       "      <td>294.0</td>\n",
       "      <td>110.25</td>\n",
       "      <td>7.0</td>\n",
       "      <td>3</td>\n",
       "      <td>0.0</td>\n",
       "      <td>0</td>\n",
       "      <td>15.55</td>\n",
       "      <td>21.33</td>\n",
       "    </tr>\n",
       "    <tr>\n",
       "      <th>2</th>\n",
       "      <td>0.98</td>\n",
       "      <td>514.5</td>\n",
       "      <td>294.0</td>\n",
       "      <td>110.25</td>\n",
       "      <td>7.0</td>\n",
       "      <td>4</td>\n",
       "      <td>0.0</td>\n",
       "      <td>0</td>\n",
       "      <td>15.55</td>\n",
       "      <td>21.33</td>\n",
       "    </tr>\n",
       "    <tr>\n",
       "      <th>3</th>\n",
       "      <td>0.98</td>\n",
       "      <td>514.5</td>\n",
       "      <td>294.0</td>\n",
       "      <td>110.25</td>\n",
       "      <td>7.0</td>\n",
       "      <td>5</td>\n",
       "      <td>0.0</td>\n",
       "      <td>0</td>\n",
       "      <td>15.55</td>\n",
       "      <td>21.33</td>\n",
       "    </tr>\n",
       "    <tr>\n",
       "      <th>4</th>\n",
       "      <td>0.90</td>\n",
       "      <td>563.5</td>\n",
       "      <td>318.5</td>\n",
       "      <td>122.50</td>\n",
       "      <td>7.0</td>\n",
       "      <td>2</td>\n",
       "      <td>0.0</td>\n",
       "      <td>0</td>\n",
       "      <td>20.84</td>\n",
       "      <td>28.28</td>\n",
       "    </tr>\n",
       "  </tbody>\n",
       "</table>\n",
       "</div>"
      ],
      "text/plain": [
       "     X1     X2     X3      X4   X5  X6   X7  X8     Y1     Y2\n",
       "0  0.98  514.5  294.0  110.25  7.0   2  0.0   0  15.55  21.33\n",
       "1  0.98  514.5  294.0  110.25  7.0   3  0.0   0  15.55  21.33\n",
       "2  0.98  514.5  294.0  110.25  7.0   4  0.0   0  15.55  21.33\n",
       "3  0.98  514.5  294.0  110.25  7.0   5  0.0   0  15.55  21.33\n",
       "4  0.90  563.5  318.5  122.50  7.0   2  0.0   0  20.84  28.28"
      ]
     },
     "execution_count": 3,
     "metadata": {},
     "output_type": "execute_result"
    }
   ],
   "source": [
    "energy_df=pd.read_csv('./data/ENB2012_data.csv')\n",
    "energy_df.head()"
   ]
  },
  {
   "cell_type": "markdown",
   "metadata": {},
   "source": [
    "## Rename columns"
   ]
  },
  {
   "cell_type": "code",
   "execution_count": 23,
   "metadata": {},
   "outputs": [
    {
     "name": "stdout",
     "output_type": "stream",
     "text": [
      "['relative_compactness', 'surface_area', 'wall_area', 'roof_area', 'overall_height', 'orientation', 'glazing_area', 'glazing_area_dist']\n"
     ]
    },
    {
     "data": {
      "text/html": [
       "<div>\n",
       "<style scoped>\n",
       "    .dataframe tbody tr th:only-of-type {\n",
       "        vertical-align: middle;\n",
       "    }\n",
       "\n",
       "    .dataframe tbody tr th {\n",
       "        vertical-align: top;\n",
       "    }\n",
       "\n",
       "    .dataframe thead th {\n",
       "        text-align: right;\n",
       "    }\n",
       "</style>\n",
       "<table border=\"1\" class=\"dataframe\">\n",
       "  <thead>\n",
       "    <tr style=\"text-align: right;\">\n",
       "      <th></th>\n",
       "      <th>relative_compactness</th>\n",
       "      <th>surface_area</th>\n",
       "      <th>wall_area</th>\n",
       "      <th>roof_area</th>\n",
       "      <th>overall_height</th>\n",
       "      <th>orientation</th>\n",
       "      <th>glazing_area</th>\n",
       "      <th>glazing_area_dist</th>\n",
       "      <th>heating_load</th>\n",
       "      <th>cooling_load</th>\n",
       "    </tr>\n",
       "  </thead>\n",
       "  <tbody>\n",
       "    <tr>\n",
       "      <th>0</th>\n",
       "      <td>0.98</td>\n",
       "      <td>514.5</td>\n",
       "      <td>294.0</td>\n",
       "      <td>110.25</td>\n",
       "      <td>7.0</td>\n",
       "      <td>2</td>\n",
       "      <td>0.0</td>\n",
       "      <td>0</td>\n",
       "      <td>15.55</td>\n",
       "      <td>21.33</td>\n",
       "    </tr>\n",
       "    <tr>\n",
       "      <th>1</th>\n",
       "      <td>0.98</td>\n",
       "      <td>514.5</td>\n",
       "      <td>294.0</td>\n",
       "      <td>110.25</td>\n",
       "      <td>7.0</td>\n",
       "      <td>3</td>\n",
       "      <td>0.0</td>\n",
       "      <td>0</td>\n",
       "      <td>15.55</td>\n",
       "      <td>21.33</td>\n",
       "    </tr>\n",
       "    <tr>\n",
       "      <th>2</th>\n",
       "      <td>0.98</td>\n",
       "      <td>514.5</td>\n",
       "      <td>294.0</td>\n",
       "      <td>110.25</td>\n",
       "      <td>7.0</td>\n",
       "      <td>4</td>\n",
       "      <td>0.0</td>\n",
       "      <td>0</td>\n",
       "      <td>15.55</td>\n",
       "      <td>21.33</td>\n",
       "    </tr>\n",
       "    <tr>\n",
       "      <th>3</th>\n",
       "      <td>0.98</td>\n",
       "      <td>514.5</td>\n",
       "      <td>294.0</td>\n",
       "      <td>110.25</td>\n",
       "      <td>7.0</td>\n",
       "      <td>5</td>\n",
       "      <td>0.0</td>\n",
       "      <td>0</td>\n",
       "      <td>15.55</td>\n",
       "      <td>21.33</td>\n",
       "    </tr>\n",
       "    <tr>\n",
       "      <th>4</th>\n",
       "      <td>0.90</td>\n",
       "      <td>563.5</td>\n",
       "      <td>318.5</td>\n",
       "      <td>122.50</td>\n",
       "      <td>7.0</td>\n",
       "      <td>2</td>\n",
       "      <td>0.0</td>\n",
       "      <td>0</td>\n",
       "      <td>20.84</td>\n",
       "      <td>28.28</td>\n",
       "    </tr>\n",
       "  </tbody>\n",
       "</table>\n",
       "</div>"
      ],
      "text/plain": [
       "   relative_compactness  surface_area  wall_area  roof_area  overall_height  \\\n",
       "0                  0.98         514.5      294.0     110.25             7.0   \n",
       "1                  0.98         514.5      294.0     110.25             7.0   \n",
       "2                  0.98         514.5      294.0     110.25             7.0   \n",
       "3                  0.98         514.5      294.0     110.25             7.0   \n",
       "4                  0.90         563.5      318.5     122.50             7.0   \n",
       "\n",
       "   orientation  glazing_area  glazing_area_dist  heating_load  cooling_load  \n",
       "0            2           0.0                  0         15.55         21.33  \n",
       "1            3           0.0                  0         15.55         21.33  \n",
       "2            4           0.0                  0         15.55         21.33  \n",
       "3            5           0.0                  0         15.55         21.33  \n",
       "4            2           0.0                  0         20.84         28.28  "
      ]
     },
     "execution_count": 23,
     "metadata": {},
     "output_type": "execute_result"
    }
   ],
   "source": [
    "energy_df.columns=[\"relative_compactness\",\"surface_area\",\"wall_area\",\"roof_area\",\"overall_height\",\"orientation\",\n",
    "                   \"glazing_area\",\"glazing_area_dist\",\"heating_load\",\"cooling_load\"]\n",
    "features=list(energy_df.columns)\n",
    "features.remove(\"heating_load\")\n",
    "features.remove(\"cooling_load\")\n",
    "print(features)\n",
    "energy_df.head()"
   ]
  },
  {
   "cell_type": "markdown",
   "metadata": {},
   "source": [
    "# Data Transformation"
   ]
  },
  {
   "cell_type": "code",
   "execution_count": 24,
   "metadata": {},
   "outputs": [
    {
     "data": {
      "text/html": [
       "<div>\n",
       "<style scoped>\n",
       "    .dataframe tbody tr th:only-of-type {\n",
       "        vertical-align: middle;\n",
       "    }\n",
       "\n",
       "    .dataframe tbody tr th {\n",
       "        vertical-align: top;\n",
       "    }\n",
       "\n",
       "    .dataframe thead th {\n",
       "        text-align: right;\n",
       "    }\n",
       "</style>\n",
       "<table border=\"1\" class=\"dataframe\">\n",
       "  <thead>\n",
       "    <tr style=\"text-align: right;\">\n",
       "      <th></th>\n",
       "      <th>relative_compactness</th>\n",
       "      <th>surface_area</th>\n",
       "      <th>wall_area</th>\n",
       "      <th>roof_area</th>\n",
       "      <th>overall_height</th>\n",
       "      <th>orientation</th>\n",
       "      <th>glazing_area</th>\n",
       "      <th>glazing_area_dist</th>\n",
       "      <th>heating_load</th>\n",
       "      <th>cooling_load</th>\n",
       "    </tr>\n",
       "  </thead>\n",
       "  <tbody>\n",
       "    <tr>\n",
       "      <th>count</th>\n",
       "      <td>768.000000</td>\n",
       "      <td>768.000000</td>\n",
       "      <td>768.000000</td>\n",
       "      <td>768.000000</td>\n",
       "      <td>768.00000</td>\n",
       "      <td>768.000000</td>\n",
       "      <td>768.000000</td>\n",
       "      <td>768.00000</td>\n",
       "      <td>768.000000</td>\n",
       "      <td>768.000000</td>\n",
       "    </tr>\n",
       "    <tr>\n",
       "      <th>mean</th>\n",
       "      <td>0.764167</td>\n",
       "      <td>671.708333</td>\n",
       "      <td>318.500000</td>\n",
       "      <td>176.604167</td>\n",
       "      <td>5.25000</td>\n",
       "      <td>3.500000</td>\n",
       "      <td>0.234375</td>\n",
       "      <td>2.81250</td>\n",
       "      <td>22.307201</td>\n",
       "      <td>24.587760</td>\n",
       "    </tr>\n",
       "    <tr>\n",
       "      <th>std</th>\n",
       "      <td>0.105777</td>\n",
       "      <td>88.086116</td>\n",
       "      <td>43.626481</td>\n",
       "      <td>45.165950</td>\n",
       "      <td>1.75114</td>\n",
       "      <td>1.118763</td>\n",
       "      <td>0.133221</td>\n",
       "      <td>1.55096</td>\n",
       "      <td>10.090196</td>\n",
       "      <td>9.513306</td>\n",
       "    </tr>\n",
       "    <tr>\n",
       "      <th>min</th>\n",
       "      <td>0.620000</td>\n",
       "      <td>514.500000</td>\n",
       "      <td>245.000000</td>\n",
       "      <td>110.250000</td>\n",
       "      <td>3.50000</td>\n",
       "      <td>2.000000</td>\n",
       "      <td>0.000000</td>\n",
       "      <td>0.00000</td>\n",
       "      <td>6.010000</td>\n",
       "      <td>10.900000</td>\n",
       "    </tr>\n",
       "    <tr>\n",
       "      <th>25%</th>\n",
       "      <td>0.682500</td>\n",
       "      <td>606.375000</td>\n",
       "      <td>294.000000</td>\n",
       "      <td>140.875000</td>\n",
       "      <td>3.50000</td>\n",
       "      <td>2.750000</td>\n",
       "      <td>0.100000</td>\n",
       "      <td>1.75000</td>\n",
       "      <td>12.992500</td>\n",
       "      <td>15.620000</td>\n",
       "    </tr>\n",
       "    <tr>\n",
       "      <th>50%</th>\n",
       "      <td>0.750000</td>\n",
       "      <td>673.750000</td>\n",
       "      <td>318.500000</td>\n",
       "      <td>183.750000</td>\n",
       "      <td>5.25000</td>\n",
       "      <td>3.500000</td>\n",
       "      <td>0.250000</td>\n",
       "      <td>3.00000</td>\n",
       "      <td>18.950000</td>\n",
       "      <td>22.080000</td>\n",
       "    </tr>\n",
       "    <tr>\n",
       "      <th>75%</th>\n",
       "      <td>0.830000</td>\n",
       "      <td>741.125000</td>\n",
       "      <td>343.000000</td>\n",
       "      <td>220.500000</td>\n",
       "      <td>7.00000</td>\n",
       "      <td>4.250000</td>\n",
       "      <td>0.400000</td>\n",
       "      <td>4.00000</td>\n",
       "      <td>31.667500</td>\n",
       "      <td>33.132500</td>\n",
       "    </tr>\n",
       "    <tr>\n",
       "      <th>max</th>\n",
       "      <td>0.980000</td>\n",
       "      <td>808.500000</td>\n",
       "      <td>416.500000</td>\n",
       "      <td>220.500000</td>\n",
       "      <td>7.00000</td>\n",
       "      <td>5.000000</td>\n",
       "      <td>0.400000</td>\n",
       "      <td>5.00000</td>\n",
       "      <td>43.100000</td>\n",
       "      <td>48.030000</td>\n",
       "    </tr>\n",
       "  </tbody>\n",
       "</table>\n",
       "</div>"
      ],
      "text/plain": [
       "       relative_compactness  surface_area   wall_area   roof_area  \\\n",
       "count            768.000000    768.000000  768.000000  768.000000   \n",
       "mean               0.764167    671.708333  318.500000  176.604167   \n",
       "std                0.105777     88.086116   43.626481   45.165950   \n",
       "min                0.620000    514.500000  245.000000  110.250000   \n",
       "25%                0.682500    606.375000  294.000000  140.875000   \n",
       "50%                0.750000    673.750000  318.500000  183.750000   \n",
       "75%                0.830000    741.125000  343.000000  220.500000   \n",
       "max                0.980000    808.500000  416.500000  220.500000   \n",
       "\n",
       "       overall_height  orientation  glazing_area  glazing_area_dist  \\\n",
       "count       768.00000   768.000000    768.000000          768.00000   \n",
       "mean          5.25000     3.500000      0.234375            2.81250   \n",
       "std           1.75114     1.118763      0.133221            1.55096   \n",
       "min           3.50000     2.000000      0.000000            0.00000   \n",
       "25%           3.50000     2.750000      0.100000            1.75000   \n",
       "50%           5.25000     3.500000      0.250000            3.00000   \n",
       "75%           7.00000     4.250000      0.400000            4.00000   \n",
       "max           7.00000     5.000000      0.400000            5.00000   \n",
       "\n",
       "       heating_load  cooling_load  \n",
       "count    768.000000    768.000000  \n",
       "mean      22.307201     24.587760  \n",
       "std       10.090196      9.513306  \n",
       "min        6.010000     10.900000  \n",
       "25%       12.992500     15.620000  \n",
       "50%       18.950000     22.080000  \n",
       "75%       31.667500     33.132500  \n",
       "max       43.100000     48.030000  "
      ]
     },
     "execution_count": 24,
     "metadata": {},
     "output_type": "execute_result"
    }
   ],
   "source": [
    "# Vérifier que certains champs ne soient pas vides ou ne contiennent pas de données que l'on voudrait filtrer\n",
    "\n",
    "energy_df.describe()"
   ]
  },
  {
   "cell_type": "code",
   "execution_count": 25,
   "metadata": {},
   "outputs": [
    {
     "data": {
      "image/png": "[encoded data removed]",
      "text/plain": [
       "<Figure size 1080x1080 with 12 Axes>"
      ]
     },
     "metadata": {
      "needs_background": "light"
     },
     "output_type": "display_data"
    }
   ],
   "source": [
    "energy_df.hist(figsize=(15,15))\n",
    "plt.show()"
   ]
  },
  {
   "cell_type": "markdown",
   "metadata": {},
   "source": [
    "Comme on veut travailler sur *cooling_load* et *heating_load*, et que l'on a une concentration d'un seul côté, la personne qui a travaillé sur le notebook que nous utilisons comme référence a décidé d'appliquer un log pour étendre plus la distribution"
   ]
  },
  {
   "cell_type": "code",
   "execution_count": 26,
   "metadata": {},
   "outputs": [
    {
     "data": {
      "image/png": "[encoded data removed]",
      "text/plain": [
       "<Figure size 432x288 with 1 Axes>"
      ]
     },
     "metadata": {
      "needs_background": "light"
     },
     "output_type": "display_data"
    },
    {
     "data": {
      "image/png": "[encoded data removed]",
      "text/plain": [
       "<Figure size 432x288 with 1 Axes>"
      ]
     },
     "metadata": {
      "needs_background": "light"
     },
     "output_type": "display_data"
    }
   ],
   "source": [
    "energy_df[\"log_heating_load\"]=np.log(energy_df[\"heating_load\"])\n",
    "energy_df[\"log_cooling_load\"]=np.log(energy_df[\"cooling_load\"])\n",
    "\n",
    "energy_df[\"log_heating_load\"].hist(bins=8)\n",
    "plt.title(\"log_heating_load\")\n",
    "plt.show()\n",
    "\n",
    "energy_df[\"log_cooling_load\"].hist(bins=8)\n",
    "plt.title(\"log_cooling_load\")\n",
    "plt.show()"
   ]
  },
  {
   "cell_type": "markdown",
   "metadata": {},
   "source": [
    "# Data Treatment"
   ]
  },
  {
   "cell_type": "markdown",
   "metadata": {},
   "source": [
    "Certaines fonctions d'analyse des features ont été implémentées et utilisées. Cependant, nous avons décidé de garder une liste fixe des features que nous utliserons pour analyser les deux variables voulues.\n",
    "Cette liste est issue du kaggle qui nous a servi d'inspiration."
   ]
  },
  {
   "cell_type": "markdown",
   "metadata": {},
   "source": [
    "## Split data into training and testing sets"
   ]
  },
  {
   "cell_type": "code",
   "execution_count": 27,
   "metadata": {},
   "outputs": [],
   "source": [
    "final_feature_list=[\"relative_compactness\",\"overall_height\",\"glazing_area\",\"wall_area\",\"roof_area\",\"surface_area\"]\n",
    "\n",
    "energy_df_f=energy_df.copy()\n",
    "energy_df_f.drop([\"heating_load\",\"cooling_load\"],axis=1,inplace=True)\n",
    "\n",
    "#Variables heating / train test split\n",
    "energy_X=energy_df_f.iloc[:,:-2]\n",
    "energy_Y=energy_df_f.loc[:,[\"log_heating_load\"]]\n",
    "energy_train_X,energy_test_X,energy_train_Y,energy_test_Y=\\\n",
    "train_test_split(energy_X,energy_Y,test_size=0.20,random_state=48)\n",
    "\n",
    "#Variables cooling / train test split\n",
    "energy2_X=energy_df_f.iloc[:,:-2]\n",
    "energy2_Y=energy_df_f.loc[:,[\"log_cooling_load\"]]\n",
    "energy2_train_X,energy2_test_X,energy2_train_Y,energy2_test_Y=\\\n",
    "train_test_split(energy2_X,energy2_Y,test_size=0.20,random_state=48)"
   ]
  },
  {
   "cell_type": "markdown",
   "metadata": {},
   "source": [
    "## Functions"
   ]
  },
  {
   "cell_type": "markdown",
   "metadata": {},
   "source": [
    "### Features selection functions"
   ]
  },
  {
   "cell_type": "markdown",
   "metadata": {},
   "source": [
    "Cette fonction affiche un graphique montrant l'importance des features, en utilisant un RandomForestClassifier"
   ]
  },
  {
   "cell_type": "code",
   "execution_count": 28,
   "metadata": {},
   "outputs": [],
   "source": [
    "def variableImportance(X_train,X_test,Y_train,Y_test,features):\n",
    "    SS=StandardScaler()\n",
    "    SS.fit(X_train)\n",
    "    features=np.array(features)\n",
    "    X_train_norm=SS.transform(X_train)\n",
    "    X_test_norm=SS.transform(X_test)\n",
    "    \n",
    "    clf = RandomForestClassifier(n_estimators=100)\n",
    "    clf.fit(X_train_norm, Y_train)\n",
    "    importances=clf.feature_importances_\n",
    "    std = np.std([tree.feature_importances_ for tree in clf.estimators_],axis=0)\n",
    "    sorted_idx = np.argsort(importances)[::-1]\n",
    "    padding = np.arange(X_train_norm.size/len(X_train_norm)) + 0.5\n",
    "    plt.barh(padding, importances[sorted_idx],xerr=std[sorted_idx], align='center')\n",
    "    plt.yticks(padding, features[sorted_idx])\n",
    "    plt.xlabel(\"Relative Importance\")\n",
    "    plt.title(\"Variable Importance\")\n",
    "    plt.show()"
   ]
  },
  {
   "cell_type": "markdown",
   "metadata": {},
   "source": [
    "Cette fonction effectue un GridSearch à partir de l'entrainement d'un RandomForestRegressor.\n",
    "Son but est de trouver certains paramètres optimaux comme le nombre de features que l'on pourrait utiliser pour entrainer notre modèle.\n",
    "\n",
    "Malheureusement son intérêt n'est pas très élevé dans cette situation à cause du faible nombre de features disponibles (8).\n",
    "Il est plus intéressant d'utiliser un RandomForestClassifier et de prendre les meilleures features, tout en prenant en compte certains paramètres qui ont une forte corrélation."
   ]
  },
  {
   "cell_type": "code",
   "execution_count": 29,
   "metadata": {},
   "outputs": [],
   "source": [
    "def gridSearch(X_train,X_test,Y_train,Y_test,features):\n",
    "    SS=StandardScaler()\n",
    "    SS.fit(X_train)\n",
    "    features=np.array(features)\n",
    "    X_train_norm=SS.transform(X_train)\n",
    "    X_test_norm=SS.transform(X_test)\n",
    "    \n",
    "    # Create the parameter grid based on the results of random search \n",
    "    param_grid = {\n",
    "        'bootstrap': [True],\n",
    "        'max_depth': [80, 90, 100, 110],\n",
    "        'max_features': [3,4,5,6],\n",
    "        'min_samples_leaf': [3, 4, 5],\n",
    "        'min_samples_split': [8, 10, 12],\n",
    "        'n_estimators': [100, 200]\n",
    "    }\n",
    "    # Create a based model\n",
    "    rf = RandomForestRegressor()\n",
    "    # Instantiate the grid search model\n",
    "    grid_search = GridSearchCV(estimator = rf, param_grid = param_grid, \n",
    "                              cv = 3, n_jobs = -1, verbose = 2)\n",
    "        # Fit the grid search to the data\n",
    "    grid_search.fit(X_train_norm, Y_train)\n",
    "    print(grid_search.best_params_)\n",
    "    best_grid = grid_search.best_estimator_"
   ]
  },
  {
   "cell_type": "markdown",
   "metadata": {},
   "source": [
    "### Final features"
   ]
  },
  {
   "cell_type": "markdown",
   "metadata": {},
   "source": [
    "On calcule ici un score pour chacune des features"
   ]
  },
  {
   "cell_type": "code",
   "execution_count": 30,
   "metadata": {},
   "outputs": [],
   "source": [
    "def ffeatures(train_X,train_Y,feature_list,maxparam):\n",
    "    predictor_var = feature_list\n",
    "    model = RandomForestClassifier(n_estimators=25,min_samples_split=25, max_depth=10) # More parameters to avoid over-fitting\n",
    "    model.fit(train_X,train_Y)\n",
    "\n",
    "    predictions = model.predict(train_X)\n",
    "    accuracy = metrics.accuracy_score(predictions,train_Y)\n",
    "    #print(model.feature_importances_)\n",
    "    featimp = pd.Series(model.feature_importances_, index=predictor_var).sort_values(ascending=False)\n",
    "    print(featimp[:maxparam])\n"
   ]
  },
  {
   "cell_type": "markdown",
   "metadata": {},
   "source": [
    "### Cross validation function"
   ]
  },
  {
   "cell_type": "markdown",
   "metadata": {},
   "source": [
    "Calculs de RMSE et R2_score moyens pour les features choisies -- Pas utile pour la régression linéaire mais intéressant"
   ]
  },
  {
   "cell_type": "code",
   "execution_count": 31,
   "metadata": {},
   "outputs": [],
   "source": [
    "def l_reg_cv(train_X,train_Y,feature_list):\n",
    "    rmse_list_train=[]\n",
    "    rmse_list_test=[]\n",
    "    r2_list_train=[]\n",
    "    r2_list_test=[]\n",
    "    for i in range(1,len(feature_list)+1):\n",
    "        train_X_temp=train_X.loc[:,feature_list[:i]]\n",
    "        cv_results_temp = cross_validate(l_reg(), train_X.loc[:,final_feature_list[:i]],train_Y, \n",
    "                            cv=5,scoring=[\"neg_root_mean_squared_error\",\"r2\"],return_train_score=True)\n",
    "        mean_rmse_train=np.mean(cv_results_temp[\"train_neg_root_mean_squared_error\"])\n",
    "        mean_r2_train=np.mean(cv_results_temp[\"train_r2\"])\n",
    "        mean_rmse_test=np.mean(cv_results_temp[\"test_neg_root_mean_squared_error\"])\n",
    "        mean_r2_test=np.mean(cv_results_temp[\"test_r2\"])\n",
    "        rmse_list_train.append(mean_rmse_train)\n",
    "        r2_list_train.append(mean_r2_train)\n",
    "        rmse_list_test.append(mean_rmse_test)\n",
    "        r2_list_test.append(mean_r2_test)\n",
    "        rmse_df=pd.DataFrame(zip(rmse_list_train,rmse_list_test,r2_list_train,r2_list_test))\n",
    "        rmse_df.columns=[\"Mean RMSE Train\",\"Mean RMSE Test\",\"Mean R2 Train\",\"Mean R2 Test\"]\n",
    "        rmse_df.index=rmse_df.index+1\n",
    "    return rmse_df"
   ]
  },
  {
   "cell_type": "markdown",
   "metadata": {},
   "source": [
    "### Plot function"
   ]
  },
  {
   "cell_type": "markdown",
   "metadata": {},
   "source": [
    "Fonction graphique pour traver les Scatter plot Train et Test avec valeurs/prédictions"
   ]
  },
  {
   "cell_type": "code",
   "execution_count": 32,
   "metadata": {},
   "outputs": [],
   "source": [
    "def predictVSactual(actual_y,y_predict,title_label):\n",
    "    fig,ax=plt.subplots(1,len(actual_y),figsize=(15,15))\n",
    "    for i,col in enumerate(actual_y,0):\n",
    "        ax[i].plot(np.ravel(actual_y[i]),\n",
    "                   np.ravel(y_predict[i]),'o',markeredgecolor=\"black\")\n",
    "        ax[i].set_title(title_label[i])\n",
    "        ax[i].set_xlabel('Actual Values')\n",
    "        ax[i].set_ylabel('Predicted Values')\n",
    "        ax[i].set(aspect='equal')\n",
    "        x=ax[i].get_xlim()\n",
    "        y=ax[i].get_xlim()\n",
    "        ax[i].plot(x,y, ls=\"--\", c=\".3\")\n",
    "    return fig,ax"
   ]
  },
  {
   "cell_type": "markdown",
   "metadata": {},
   "source": [
    "### Executable function"
   ]
  },
  {
   "cell_type": "markdown",
   "metadata": {},
   "source": [
    "https://scikit-learn.org/stable/modules/generated/sklearn.linear_model.LinearRegression.html"
   ]
  },
  {
   "cell_type": "code",
   "execution_count": 33,
   "metadata": {},
   "outputs": [],
   "source": [
    "def predictLinearReg(energy_train_X,energy_test_X,energy_train_Y,energy_test_Y):\n",
    "    #rmse_cv=l_reg_cv(energy_train_X,np.ravel(energy_train_Y),final_feature_list)\n",
    "    #print(rmse_cv)\n",
    "    \n",
    "    l_reg_best=l_reg()\n",
    "    l_reg_best.fit(energy_train_X.loc[:,final_feature_list[:5]],np.ravel(energy_train_Y))\n",
    "    pred_train_Y_best=l_reg_best.predict(energy_train_X.loc[:,final_feature_list[:5]])\n",
    "    pred_test_Y_best=l_reg_best.predict(energy_test_X.loc[:,final_feature_list[:5]])\n",
    "\n",
    "    print(\"Une RMSE faible traduit une variance faible entre les valeurs actuelles et les valeurs prédites\")\n",
    "    print(\"RMSE for Train set:\",MSE(pred_train_Y_best,energy_train_Y,squared=False))\n",
    "    print(\"RMSE for Test set:\",MSE(pred_test_Y_best,energy_test_Y,squared=False))\n",
    "\n",
    "    print(\"R2 correspond au coefficient de détermination linéaire, plus il est proche de 1, meilleure est la régression.\")\n",
    "    print(\"R2 for Train set:\",r2_score(pred_train_Y_best,energy_train_Y))\n",
    "    print(\"R2 for Test set:\",r2_score(pred_test_Y_best,energy_test_Y))\n",
    "\n",
    "    \n",
    "    actual_y_energy=[energy_train_Y,energy_test_Y]\n",
    "    pred_y_energy=[pred_train_Y_best,pred_test_Y_best]\n",
    "    predictVSactual(actual_y_energy,pred_y_energy,\n",
    "                    [\"Scatter Plot: Prediction Comparison (Train)\",\"Scatter Plot: Prediction Comparison (Test)\"])\n",
    "    plt.show()"
   ]
  },
  {
   "cell_type": "markdown",
   "metadata": {},
   "source": [
    "## LinearRegression avec heating_load"
   ]
  },
  {
   "cell_type": "markdown",
   "metadata": {},
   "source": [
    "### Variables/Features"
   ]
  },
  {
   "cell_type": "code",
   "execution_count": 34,
   "metadata": {
    "scrolled": false
   },
   "outputs": [
    {
     "data": {
      "image/png": "[encoded data removed]",
      "text/plain": [
       "<Figure size 432x288 with 1 Axes>"
      ]
     },
     "metadata": {
      "needs_background": "light"
     },
     "output_type": "display_data"
    },
    {
     "name": "stdout",
     "output_type": "stream",
     "text": [
      "Fitting 3 folds for each of 288 candidates, totalling 864 fits\n"
     ]
    },
    {
     "name": "stderr",
     "output_type": "stream",
     "text": [
      "[Parallel(n_jobs=-1)]: Using backend LokyBackend with 12 concurrent workers.\n",
      "[Parallel(n_jobs=-1)]: Done  17 tasks      | elapsed:    2.3s\n",
      "[Parallel(n_jobs=-1)]: Done 138 tasks      | elapsed:    5.3s\n",
      "[Parallel(n_jobs=-1)]: Done 341 tasks      | elapsed:    9.9s\n",
      "[Parallel(n_jobs=-1)]: Done 624 tasks      | elapsed:   16.3s\n",
      "[Parallel(n_jobs=-1)]: Done 864 out of 864 | elapsed:   22.1s finished\n"
     ]
    },
    {
     "name": "stdout",
     "output_type": "stream",
     "text": [
      "{'bootstrap': True, 'max_depth': 110, 'max_features': 6, 'min_samples_leaf': 3, 'min_samples_split': 8, 'n_estimators': 200}\n"
     ]
    },
    {
     "data": {
      "text/html": [
       "<div>\n",
       "<style scoped>\n",
       "    .dataframe tbody tr th:only-of-type {\n",
       "        vertical-align: middle;\n",
       "    }\n",
       "\n",
       "    .dataframe tbody tr th {\n",
       "        vertical-align: top;\n",
       "    }\n",
       "\n",
       "    .dataframe thead th {\n",
       "        text-align: right;\n",
       "    }\n",
       "</style>\n",
       "<table border=\"1\" class=\"dataframe\">\n",
       "  <thead>\n",
       "    <tr style=\"text-align: right;\">\n",
       "      <th></th>\n",
       "      <th>Mean RMSE Train</th>\n",
       "      <th>Mean RMSE Test</th>\n",
       "      <th>Mean R2 Train</th>\n",
       "      <th>Mean R2 Test</th>\n",
       "    </tr>\n",
       "  </thead>\n",
       "  <tbody>\n",
       "    <tr>\n",
       "      <th>1</th>\n",
       "      <td>-0.362498</td>\n",
       "      <td>-0.362583</td>\n",
       "      <td>0.423217</td>\n",
       "      <td>0.417459</td>\n",
       "    </tr>\n",
       "    <tr>\n",
       "      <th>2</th>\n",
       "      <td>-0.190841</td>\n",
       "      <td>-0.191884</td>\n",
       "      <td>0.840152</td>\n",
       "      <td>0.837311</td>\n",
       "    </tr>\n",
       "    <tr>\n",
       "      <th>3</th>\n",
       "      <td>-0.130170</td>\n",
       "      <td>-0.130528</td>\n",
       "      <td>0.925626</td>\n",
       "      <td>0.924653</td>\n",
       "    </tr>\n",
       "    <tr>\n",
       "      <th>4</th>\n",
       "      <td>-0.119656</td>\n",
       "      <td>-0.119957</td>\n",
       "      <td>0.937152</td>\n",
       "      <td>0.936287</td>\n",
       "    </tr>\n",
       "    <tr>\n",
       "      <th>5</th>\n",
       "      <td>-0.119151</td>\n",
       "      <td>-0.119537</td>\n",
       "      <td>0.937681</td>\n",
       "      <td>0.936732</td>\n",
       "    </tr>\n",
       "    <tr>\n",
       "      <th>6</th>\n",
       "      <td>-0.119151</td>\n",
       "      <td>-0.119534</td>\n",
       "      <td>0.937681</td>\n",
       "      <td>0.936735</td>\n",
       "    </tr>\n",
       "    <tr>\n",
       "      <th>7</th>\n",
       "      <td>-0.119151</td>\n",
       "      <td>-0.119534</td>\n",
       "      <td>0.937681</td>\n",
       "      <td>0.936735</td>\n",
       "    </tr>\n",
       "    <tr>\n",
       "      <th>8</th>\n",
       "      <td>-0.119151</td>\n",
       "      <td>-0.119534</td>\n",
       "      <td>0.937681</td>\n",
       "      <td>0.936735</td>\n",
       "    </tr>\n",
       "  </tbody>\n",
       "</table>\n",
       "</div>"
      ],
      "text/plain": [
       "   Mean RMSE Train  Mean RMSE Test  Mean R2 Train  Mean R2 Test\n",
       "1        -0.362498       -0.362583       0.423217      0.417459\n",
       "2        -0.190841       -0.191884       0.840152      0.837311\n",
       "3        -0.130170       -0.130528       0.925626      0.924653\n",
       "4        -0.119656       -0.119957       0.937152      0.936287\n",
       "5        -0.119151       -0.119537       0.937681      0.936732\n",
       "6        -0.119151       -0.119534       0.937681      0.936735\n",
       "7        -0.119151       -0.119534       0.937681      0.936735\n",
       "8        -0.119151       -0.119534       0.937681      0.936735"
      ]
     },
     "execution_count": 34,
     "metadata": {},
     "output_type": "execute_result"
    }
   ],
   "source": [
    "lab_enc = preprocessing.LabelEncoder()\n",
    "Y_train_encoded = lab_enc.fit_transform(energy_train_Y.values.ravel())\n",
    "Y_test_encoded = lab_enc.fit_transform(energy_test_Y.values.ravel())\n",
    "\n",
    "variableImportance(energy_train_X,energy_test_X,Y_train_encoded,Y_test_encoded,features)\n",
    "gridSearch(energy_train_X,energy_test_X,Y_train_encoded,Y_test_encoded,features)\n",
    "l_reg_cv(energy_train_X,energy_train_Y,features)"
   ]
  },
  {
   "cell_type": "markdown",
   "metadata": {},
   "source": [
    "### Régression Linéaire"
   ]
  },
  {
   "cell_type": "code",
   "execution_count": 35,
   "metadata": {
    "scrolled": false
   },
   "outputs": [
    {
     "name": "stdout",
     "output_type": "stream",
     "text": [
      "Une RMSE faible traduit une variance faible entre les valeurs actuelles et les valeurs prédites\n",
      "RMSE for Train set: 0.11922889467600066\n",
      "RMSE for Test set: 0.13376486227336667\n",
      "R2 correspond au coefficient de détermination linéaire, plus il est proche de 1, meilleure est la régression.\n",
      "R2 for Train set: 0.9334914255748193\n",
      "R2 for Test set: 0.9103904558887782\n"
     ]
    },
    {
     "data": {
      "image/png": "[encoded data removed]",
      "text/plain": [
       "<Figure size 1080x1080 with 2 Axes>"
      ]
     },
     "metadata": {
      "needs_background": "light"
     },
     "output_type": "display_data"
    }
   ],
   "source": [
    "predictLinearReg(energy_train_X,energy_test_X,energy_train_Y,energy_test_Y)"
   ]
  },
  {
   "cell_type": "markdown",
   "metadata": {},
   "source": [
    "## LinearRegression avec cooling_load"
   ]
  },
  {
   "cell_type": "markdown",
   "metadata": {},
   "source": [
    "### Variables/Features"
   ]
  },
  {
   "cell_type": "code",
   "execution_count": 36,
   "metadata": {},
   "outputs": [
    {
     "data": {
      "image/png": "[encoded data removed]",
      "text/plain": [
       "<Figure size 432x288 with 1 Axes>"
      ]
     },
     "metadata": {
      "needs_background": "light"
     },
     "output_type": "display_data"
    },
    {
     "name": "stdout",
     "output_type": "stream",
     "text": [
      "Fitting 3 folds for each of 288 candidates, totalling 864 fits\n"
     ]
    },
    {
     "name": "stderr",
     "output_type": "stream",
     "text": [
      "[Parallel(n_jobs=-1)]: Using backend LokyBackend with 12 concurrent workers.\n",
      "[Parallel(n_jobs=-1)]: Done  17 tasks      | elapsed:    0.4s\n",
      "[Parallel(n_jobs=-1)]: Done 252 tasks      | elapsed:    6.8s\n",
      "[Parallel(n_jobs=-1)]: Done 658 tasks      | elapsed:   20.1s\n",
      "[Parallel(n_jobs=-1)]: Done 864 out of 864 | elapsed:   26.1s finished\n"
     ]
    },
    {
     "name": "stdout",
     "output_type": "stream",
     "text": [
      "{'bootstrap': True, 'max_depth': 110, 'max_features': 5, 'min_samples_leaf': 3, 'min_samples_split': 8, 'n_estimators': 100}\n"
     ]
    },
    {
     "data": {
      "text/html": [
       "<div>\n",
       "<style scoped>\n",
       "    .dataframe tbody tr th:only-of-type {\n",
       "        vertical-align: middle;\n",
       "    }\n",
       "\n",
       "    .dataframe tbody tr th {\n",
       "        vertical-align: top;\n",
       "    }\n",
       "\n",
       "    .dataframe thead th {\n",
       "        text-align: right;\n",
       "    }\n",
       "</style>\n",
       "<table border=\"1\" class=\"dataframe\">\n",
       "  <thead>\n",
       "    <tr style=\"text-align: right;\">\n",
       "      <th></th>\n",
       "      <th>Mean RMSE Train</th>\n",
       "      <th>Mean RMSE Test</th>\n",
       "      <th>Mean R2 Train</th>\n",
       "      <th>Mean R2 Test</th>\n",
       "    </tr>\n",
       "  </thead>\n",
       "  <tbody>\n",
       "    <tr>\n",
       "      <th>1</th>\n",
       "      <td>-0.290515</td>\n",
       "      <td>-0.290509</td>\n",
       "      <td>0.451712</td>\n",
       "      <td>0.447037</td>\n",
       "    </tr>\n",
       "    <tr>\n",
       "      <th>2</th>\n",
       "      <td>-0.139979</td>\n",
       "      <td>-0.140843</td>\n",
       "      <td>0.872678</td>\n",
       "      <td>0.869640</td>\n",
       "    </tr>\n",
       "    <tr>\n",
       "      <th>3</th>\n",
       "      <td>-0.112064</td>\n",
       "      <td>-0.112501</td>\n",
       "      <td>0.918384</td>\n",
       "      <td>0.916640</td>\n",
       "    </tr>\n",
       "    <tr>\n",
       "      <th>4</th>\n",
       "      <td>-0.109113</td>\n",
       "      <td>-0.109899</td>\n",
       "      <td>0.922627</td>\n",
       "      <td>0.920478</td>\n",
       "    </tr>\n",
       "    <tr>\n",
       "      <th>5</th>\n",
       "      <td>-0.108934</td>\n",
       "      <td>-0.109792</td>\n",
       "      <td>0.922880</td>\n",
       "      <td>0.920627</td>\n",
       "    </tr>\n",
       "    <tr>\n",
       "      <th>6</th>\n",
       "      <td>-0.108945</td>\n",
       "      <td>-0.109821</td>\n",
       "      <td>0.922866</td>\n",
       "      <td>0.920584</td>\n",
       "    </tr>\n",
       "    <tr>\n",
       "      <th>7</th>\n",
       "      <td>-0.108945</td>\n",
       "      <td>-0.109821</td>\n",
       "      <td>0.922866</td>\n",
       "      <td>0.920584</td>\n",
       "    </tr>\n",
       "    <tr>\n",
       "      <th>8</th>\n",
       "      <td>-0.108945</td>\n",
       "      <td>-0.109821</td>\n",
       "      <td>0.922866</td>\n",
       "      <td>0.920584</td>\n",
       "    </tr>\n",
       "  </tbody>\n",
       "</table>\n",
       "</div>"
      ],
      "text/plain": [
       "   Mean RMSE Train  Mean RMSE Test  Mean R2 Train  Mean R2 Test\n",
       "1        -0.290515       -0.290509       0.451712      0.447037\n",
       "2        -0.139979       -0.140843       0.872678      0.869640\n",
       "3        -0.112064       -0.112501       0.918384      0.916640\n",
       "4        -0.109113       -0.109899       0.922627      0.920478\n",
       "5        -0.108934       -0.109792       0.922880      0.920627\n",
       "6        -0.108945       -0.109821       0.922866      0.920584\n",
       "7        -0.108945       -0.109821       0.922866      0.920584\n",
       "8        -0.108945       -0.109821       0.922866      0.920584"
      ]
     },
     "execution_count": 36,
     "metadata": {},
     "output_type": "execute_result"
    }
   ],
   "source": [
    "lab_enc = preprocessing.LabelEncoder()\n",
    "Y2_train_encoded = lab_enc.fit_transform(energy2_train_Y.values.ravel())\n",
    "Y2_test_encoded = lab_enc.fit_transform(energy2_test_Y.values.ravel())\n",
    "\n",
    "variableImportance(energy2_train_X,energy2_test_X,Y2_train_encoded,Y2_test_encoded,features)\n",
    "gridSearch(energy2_train_X,energy2_test_X,Y2_train_encoded,Y2_test_encoded,features)\n",
    "l_reg_cv(energy2_train_X,energy2_train_Y,features)"
   ]
  },
  {
   "cell_type": "markdown",
   "metadata": {},
   "source": [
    "### Régression Linéaire"
   ]
  },
  {
   "cell_type": "code",
   "execution_count": 37,
   "metadata": {},
   "outputs": [
    {
     "name": "stdout",
     "output_type": "stream",
     "text": [
      "Une RMSE faible traduit une variance faible entre les valeurs actuelles et les valeurs prédites\n",
      "RMSE for Train set: 0.1090674533609917\n",
      "RMSE for Test set: 0.12190297511095048\n",
      "R2 correspond au coefficient de détermination linéaire, plus il est proche de 1, meilleure est la régression.\n",
      "R2 for Train set: 0.9162985276981366\n",
      "R2 for Test set: 0.8895421903026551\n"
     ]
    },
    {
     "data": {
      "image/png": "[encoded data removed]",
      "text/plain": [
       "<Figure size 1080x1080 with 2 Axes>"
      ]
     },
     "metadata": {
      "needs_background": "light"
     },
     "output_type": "display_data"
    }
   ],
   "source": [
    "predictLinearReg(energy2_train_X,energy2_test_X,energy2_train_Y,energy2_test_Y)"
   ]
  },
  {
   "cell_type": "markdown",
   "metadata": {},
   "source": [
    "# Conclusion"
   ]
  },
  {
   "cell_type": "markdown",
   "metadata": {},
   "source": [
    "On peut remarquer que le modèle de régression linéaire est très efficace pour les deux features sur lesquelles nous avons travaillé.\n",
    "En effet, le rapport entre les scores obtenus entre les données de test et les données d'entrainement est suffisement faible pour que l'on puisse dire que le modèle semble bien entrainé et efficace.\n",
    "\n",
    "La régression linéaire a donc l'air d'être un modèle adapté et intéressant à utiliser dans certaines situations lorsqu'il est bien entrainé."
   ]
  }
 ],
 "metadata": {
  "kernelspec": {
   "display_name": "Python 3",
   "language": "python",
   "name": "python3"
  },
  "language_info": {
   "codemirror_mode": {
    "name": "ipython",
    "version": 3
   },
   "file_extension": ".py",
   "mimetype": "text/x-python",
   "name": "python",
   "nbconvert_exporter": "python",
   "pygments_lexer": "ipython3",
   "version": "3.8.12"
  }
 },
 "nbformat": 4,
 "nbformat_minor": 4
}
